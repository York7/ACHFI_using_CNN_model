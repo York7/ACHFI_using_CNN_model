{
 "cells": [
  {
   "cell_type": "code",
   "execution_count": 1,
   "metadata": {},
   "outputs": [
    {
     "name": "stderr",
     "output_type": "stream",
     "text": [
      "Using TensorFlow backend.\n"
     ]
    }
   ],
   "source": [
    "import os\n",
    "import pandas as pd # some array operation\n",
    "import tensorflow\n",
    "import keras\n",
    "from keras.models import Sequential, load_model\n",
    "from keras.layers import Dense, Flatten, InputLayer, Dropout, Conv2D, Activation, MaxPooling2D\n",
    "import matplotlib.pyplot as plt\n",
    "from sklearn.preprocessing import LabelEncoder\n",
    "from sklearn.model_selection import train_test_split\n",
    "import pickle # Load saved data\n",
    "import numpy as np # Manipulating with array\n",
    "import cv2 # image operation"
   ]
  },
  {
   "cell_type": "code",
   "execution_count": 9,
   "metadata": {},
   "outputs": [],
   "source": [
    "model = load_model(\"ACbyHFI_model9_beta2.h5\")"
   ]
  },
  {
   "cell_type": "code",
   "execution_count": 10,
   "metadata": {},
   "outputs": [
    {
     "name": "stdout",
     "output_type": "stream",
     "text": [
      "Model: \"sequential_1\"\n",
      "_________________________________________________________________\n",
      "Layer (type)                 Output Shape              Param #   \n",
      "=================================================================\n",
      "conv2d_1 (Conv2D)            (None, 126, 126, 25)      700       \n",
      "_________________________________________________________________\n",
      "activation_1 (Activation)    (None, 126, 126, 25)      0         \n",
      "_________________________________________________________________\n",
      "max_pooling2d_1 (MaxPooling2 (None, 63, 63, 25)        0         \n",
      "_________________________________________________________________\n",
      "conv2d_2 (Conv2D)            (None, 61, 61, 50)        11300     \n",
      "_________________________________________________________________\n",
      "activation_2 (Activation)    (None, 61, 61, 50)        0         \n",
      "_________________________________________________________________\n",
      "max_pooling2d_2 (MaxPooling2 (None, 30, 30, 50)        0         \n",
      "_________________________________________________________________\n",
      "conv2d_3 (Conv2D)            (None, 28, 28, 75)        33825     \n",
      "_________________________________________________________________\n",
      "activation_3 (Activation)    (None, 28, 28, 75)        0         \n",
      "_________________________________________________________________\n",
      "max_pooling2d_3 (MaxPooling2 (None, 14, 14, 75)        0         \n",
      "_________________________________________________________________\n",
      "flatten_1 (Flatten)          (None, 14700)             0         \n",
      "_________________________________________________________________\n",
      "dense_1 (Dense)              (None, 32)                470432    \n",
      "_________________________________________________________________\n",
      "activation_4 (Activation)    (None, 32)                0         \n",
      "_________________________________________________________________\n",
      "dense_2 (Dense)              (None, 32)                1056      \n",
      "_________________________________________________________________\n",
      "activation_5 (Activation)    (None, 32)                0         \n",
      "_________________________________________________________________\n",
      "dropout_1 (Dropout)          (None, 32)                0         \n",
      "_________________________________________________________________\n",
      "dense_3 (Dense)              (None, 3)                 99        \n",
      "_________________________________________________________________\n",
      "activation_6 (Activation)    (None, 3)                 0         \n",
      "=================================================================\n",
      "Total params: 517,412\n",
      "Trainable params: 517,412\n",
      "Non-trainable params: 0\n",
      "_________________________________________________________________\n"
     ]
    }
   ],
   "source": [
    "model.summary()"
   ]
  },
  {
   "cell_type": "code",
   "execution_count": 4,
   "metadata": {
    "scrolled": true
   },
   "outputs": [
    {
     "name": "stdout",
     "output_type": "stream",
     "text": [
      "MIDDLE    0.536266\n",
      "YOUNG     0.338146\n",
      "OLD       0.125588\n",
      "Name: Class, dtype: float64\n",
      "Train class saperate rate: \n"
     ]
    },
    {
     "data": {
      "text/plain": [
       "MIDDLE    0.542519\n",
       "YOUNG     0.337431\n",
       "OLD       0.120050\n",
       "Name: Class, dtype: float64"
      ]
     },
     "execution_count": 4,
     "metadata": {},
     "output_type": "execute_result"
    }
   ],
   "source": [
    "# Define data dir path\n",
    "Train_data_dir = \"/Users/york/Tensor1/JupyterNotebook/Ages Classification by Human face image p1/data\"\n",
    "Test_data_dir = \"/Users/york/Tensor1/JupyterNotebook/Ages Classification by Human face image p1/data\"\n",
    "\n",
    "# Import csv files\n",
    "train = pd.read_csv(os.path.join(Train_data_dir, \"train_c.csv\"))\n",
    "test = pd.read_csv(os.path.join(Test_data_dir, \"test.csv\"))\n",
    "\n",
    "# Import saved data\n",
    "pickle_in = open(os.path.join(Train_data_dir, \"X_train_128x3_c.pickle\"),\"rb\")\n",
    "train_x = pickle.load(pickle_in)\n",
    "\n",
    "# Import saved data\n",
    "pickle_in = open(os.path.join(Train_data_dir, \"X_test_128x3_c.pickle\"),\"rb\")\n",
    "test_x = pickle.load(pickle_in)\n",
    "\n",
    "\n",
    "# Split off the validation data\n",
    "train_x, valid_x, train_y0, valid_y0 = train_test_split(train_x, train, test_size=0.15, random_state=37)\n",
    "\n",
    "# Hien thi ty le phan chia cua tap du lieu kiem tra\n",
    "print(valid_y0.Class.value_counts(normalize=True))\n",
    "\n",
    "# Change lable to number\n",
    "lb = LabelEncoder()\n",
    "train_y = lb.fit_transform(train_y0.Class)\n",
    "train_y = keras.utils.np_utils.to_categorical(train_y)\n",
    "\n",
    "valid_y = lb.fit_transform(valid_y0.Class)\n",
    "valid_y = keras.utils.np_utils.to_categorical(valid_y)\n",
    "\n",
    "\n",
    "# lb = LabelEncoder()\n",
    "# test_y = lb.fit_transform(test.Class)\n",
    "# test_y = keras.utils.np_utils.to_categorical(test_y)\n",
    "\n",
    "# print(train_x.shape)\n",
    "# print(train_y.shape)\n",
    "print(\"Train class saperate rate: \")\n",
    "train.Class.value_counts(normalize=True)"
   ]
  },
  {
   "cell_type": "code",
   "execution_count": 5,
   "metadata": {},
   "outputs": [
    {
     "name": "stdout",
     "output_type": "stream",
     "text": [
      "Train class saperate rate: \n"
     ]
    },
    {
     "data": {
      "text/plain": [
       "MIDDLE    0.536266\n",
       "YOUNG     0.338146\n",
       "OLD       0.125588\n",
       "Name: Class, dtype: float64"
      ]
     },
     "execution_count": 5,
     "metadata": {},
     "output_type": "execute_result"
    }
   ],
   "source": [
    "print(\"Train class saperate rate: \")\n",
    "valid_y0.Class.value_counts(normalize=True)\n"
   ]
  },
  {
   "cell_type": "code",
   "execution_count": 6,
   "metadata": {},
   "outputs": [],
   "source": [
    "from keras.preprocessing.image import ImageDataGenerator\n",
    "\n",
    "data_aug = ImageDataGenerator(\n",
    "    featurewise_center = False,\n",
    "    samplewise_center = False,\n",
    "    featurewise_std_normalization = False,\n",
    "    samplewise_std_normalization = False,\n",
    "    zca_whitening = False,\n",
    "    rotation_range = 45,\n",
    "    width_shift_range = 0.1,\n",
    "    height_shift_range = 0.1,\n",
    "    horizontal_flip = True,\n",
    "    vertical_flip = False\n",
    ")\n",
    "data_aug.fit(train_x)"
   ]
  },
  {
   "cell_type": "code",
   "execution_count": 7,
   "metadata": {},
   "outputs": [],
   "source": [
    "# Define number of parameter that we going to use in our nn model\n",
    "img_size = 128\n",
    "chanel_num = 3\n",
    "class_num = 3\n",
    "\n",
    "epoch_num = 4\n",
    "batch_size = 64\n",
    "\n",
    "\n",
    "\n",
    "# Define weights\n",
    "weights = {\n",
    "    0:0.19,\n",
    "    1:0.55,\n",
    "    2:0.26\n",
    "}"
   ]
  },
  {
   "cell_type": "code",
   "execution_count": 11,
   "metadata": {
    "scrolled": false
   },
   "outputs": [
    {
     "name": "stdout",
     "output_type": "stream",
     "text": [
      "Epoch 1/30\n",
      "1055/1054 [==============================] - 2285s 2s/step - loss: 0.0900 - accuracy: 0.8551 - val_loss: 0.3986 - val_accuracy: 0.8486\n",
      "Epoch 2/30\n",
      "1055/1054 [==============================] - 2278s 2s/step - loss: 0.0882 - accuracy: 0.8577 - val_loss: 0.3934 - val_accuracy: 0.8543\n",
      "Epoch 3/30\n",
      "1055/1054 [==============================] - 2273s 2s/step - loss: 0.0891 - accuracy: 0.8552 - val_loss: 0.4007 - val_accuracy: 0.8452\n",
      "Epoch 4/30\n",
      "1055/1054 [==============================] - 2275s 2s/step - loss: 0.0894 - accuracy: 0.8573 - val_loss: 0.3868 - val_accuracy: 0.8580\n",
      "Epoch 5/30\n",
      "1055/1054 [==============================] - 2276s 2s/step - loss: 0.0887 - accuracy: 0.8586 - val_loss: 0.3986 - val_accuracy: 0.8539\n",
      "Epoch 6/30\n",
      "1055/1054 [==============================] - 2277s 2s/step - loss: 0.0884 - accuracy: 0.8590 - val_loss: 0.3981 - val_accuracy: 0.8546\n",
      "Epoch 7/30\n",
      "1055/1054 [==============================] - 2274s 2s/step - loss: 0.0887 - accuracy: 0.8586 - val_loss: 0.4270 - val_accuracy: 0.8351\n",
      "Epoch 8/30\n",
      "1055/1054 [==============================] - 2271s 2s/step - loss: 0.0887 - accuracy: 0.8581 - val_loss: 0.3892 - val_accuracy: 0.8586\n",
      "Epoch 9/30\n",
      "1055/1054 [==============================] - 2278s 2s/step - loss: 0.0876 - accuracy: 0.8602 - val_loss: 0.4012 - val_accuracy: 0.8499\n",
      "Epoch 10/30\n",
      "1055/1054 [==============================] - 2277s 2s/step - loss: 0.0882 - accuracy: 0.8606 - val_loss: 0.4110 - val_accuracy: 0.8519\n",
      "Epoch 11/30\n",
      "1055/1054 [==============================] - 2348s 2s/step - loss: 0.0875 - accuracy: 0.8600 - val_loss: 0.4036 - val_accuracy: 0.8509\n",
      "Epoch 12/30\n",
      "1055/1054 [==============================] - 2276s 2s/step - loss: 0.0874 - accuracy: 0.8595 - val_loss: 0.3837 - val_accuracy: 0.8536\n",
      "Epoch 13/30\n",
      "1055/1054 [==============================] - 2279s 2s/step - loss: 0.0870 - accuracy: 0.8617 - val_loss: 0.4041 - val_accuracy: 0.8506\n",
      "Epoch 14/30\n",
      "1055/1054 [==============================] - 2279s 2s/step - loss: 0.0866 - accuracy: 0.8616 - val_loss: 0.3973 - val_accuracy: 0.8539\n",
      "Epoch 15/30\n",
      "1055/1054 [==============================] - 2278s 2s/step - loss: 0.0870 - accuracy: 0.8629 - val_loss: 0.4048 - val_accuracy: 0.8459\n",
      "Epoch 16/30\n",
      "1055/1054 [==============================] - 2345s 2s/step - loss: 0.0877 - accuracy: 0.8607 - val_loss: 0.3842 - val_accuracy: 0.8600\n",
      "Epoch 17/30\n",
      "1055/1054 [==============================] - 2315s 2s/step - loss: 0.0862 - accuracy: 0.8617 - val_loss: 0.4078 - val_accuracy: 0.8435\n",
      "Epoch 18/30\n",
      "1055/1054 [==============================] - 2459s 2s/step - loss: 0.0854 - accuracy: 0.8624 - val_loss: 0.4156 - val_accuracy: 0.8442\n",
      "Epoch 19/30\n",
      "1055/1054 [==============================] - 2447s 2s/step - loss: 0.0858 - accuracy: 0.8634 - val_loss: 0.4165 - val_accuracy: 0.8482\n",
      "Epoch 20/30\n",
      "1055/1054 [==============================] - 2452s 2s/step - loss: 0.0855 - accuracy: 0.8613 - val_loss: 0.3830 - val_accuracy: 0.8563\n",
      "Epoch 21/30\n",
      "1055/1054 [==============================] - 2483s 2s/step - loss: 0.0848 - accuracy: 0.8634 - val_loss: 0.4037 - val_accuracy: 0.8506\n",
      "Epoch 22/30\n",
      "1055/1054 [==============================] - 2478s 2s/step - loss: 0.0849 - accuracy: 0.8645 - val_loss: 0.4036 - val_accuracy: 0.8506\n",
      "Epoch 23/30\n",
      "1055/1054 [==============================] - 2431s 2s/step - loss: 0.0846 - accuracy: 0.8653 - val_loss: 0.3924 - val_accuracy: 0.8586\n",
      "Epoch 24/30\n",
      "1055/1054 [==============================] - 2443s 2s/step - loss: 0.0845 - accuracy: 0.8650 - val_loss: 0.4045 - val_accuracy: 0.8576\n",
      "Epoch 25/30\n",
      "1055/1054 [==============================] - 2375s 2s/step - loss: 0.0845 - accuracy: 0.8644 - val_loss: 0.4186 - val_accuracy: 0.8449\n",
      "Epoch 26/30\n",
      "1055/1054 [==============================] - 2282s 2s/step - loss: 0.0842 - accuracy: 0.8642 - val_loss: 0.3952 - val_accuracy: 0.8492\n",
      "Epoch 27/30\n",
      "1055/1054 [==============================] - 2383s 2s/step - loss: 0.0832 - accuracy: 0.8666 - val_loss: 0.4030 - val_accuracy: 0.8502\n",
      "Epoch 28/30\n",
      "1055/1054 [==============================] - 2355s 2s/step - loss: 0.0832 - accuracy: 0.8680 - val_loss: 0.4087 - val_accuracy: 0.8496\n",
      "Epoch 29/30\n",
      "1055/1054 [==============================] - 2276s 2s/step - loss: 0.0852 - accuracy: 0.8633 - val_loss: 0.4075 - val_accuracy: 0.8509\n",
      "Epoch 30/30\n",
      "1055/1054 [==============================] - 2277s 2s/step - loss: 0.0831 - accuracy: 0.8673 - val_loss: 0.4002 - val_accuracy: 0.8425\n"
     ]
    }
   ],
   "source": [
    "# Configure the learning process\n",
    "from keras.optimizers import Adam\n",
    "opt1 = Adam(lr=0.0001)\n",
    "\n",
    "# Compile model\n",
    "model.compile(loss='categorical_crossentropy',\n",
    "             optimizer= 'adam',\n",
    "             metrics=['accuracy'])\n",
    "\n",
    "# Train the model\n",
    "history = model.fit_generator(data_aug.flow(train_x, train_y, batch_size = batch_size),\n",
    "                    steps_per_epoch = len(train_x) / 16,\n",
    "                    epochs = 30,\n",
    "                    validation_data=(valid_x,valid_y),\n",
    "                    verbose = 1,\n",
    "                    class_weight = weights)"
   ]
  },
  {
   "cell_type": "code",
   "execution_count": 12,
   "metadata": {},
   "outputs": [
    {
     "name": "stdout",
     "output_type": "stream",
     "text": [
      "Accuracy: 84.2512%\n"
     ]
    }
   ],
   "source": [
    "Score = model.evaluate(valid_x, valid_y, verbose=0)\n",
    "print(\"Accuracy: %.4f%%\" % (Score[1]*100))"
   ]
  },
  {
   "cell_type": "code",
   "execution_count": 13,
   "metadata": {
    "scrolled": false
   },
   "outputs": [
    {
     "data": {
      "image/png": "[encoded data removed]",
      "text/plain": [
       "<Figure size 432x288 with 1 Axes>"
      ]
     },
     "metadata": {
      "needs_background": "light"
     },
     "output_type": "display_data"
    },
    {
     "data": {
      "image/png": "[encoded data removed]",
      "text/plain": [
       "<Figure size 432x288 with 1 Axes>"
      ]
     },
     "metadata": {
      "needs_background": "light"
     },
     "output_type": "display_data"
    }
   ],
   "source": [
    "# Plot training & validation accuracy values\n",
    "plt.plot(history.history['accuracy'])\n",
    "plt.plot(history.history['val_accuracy'])\n",
    "plt.title('Model accuracy')\n",
    "plt.ylabel('Accuracy')\n",
    "plt.xlabel('Epoch')\n",
    "plt.legend(['Train', 'Test'], loc='upper left')\n",
    "plt.show()\n",
    "\n",
    "# Plot training & validation loss values\n",
    "plt.plot(history.history['loss'])\n",
    "plt.plot(history.history['val_loss'])\n",
    "plt.title('Model loss')\n",
    "plt.ylabel('Loss')\n",
    "plt.xlabel('Epoch')\n",
    "plt.legend(['Train', 'Test'], loc='upper left')\n",
    "plt.show()"
   ]
  },
  {
   "cell_type": "code",
   "execution_count": 14,
   "metadata": {},
   "outputs": [
    {
     "data": {
      "text/html": [
       "<div>\n",
       "<style scoped>\n",
       "    .dataframe tbody tr th:only-of-type {\n",
       "        vertical-align: middle;\n",
       "    }\n",
       "\n",
       "    .dataframe tbody tr th {\n",
       "        vertical-align: top;\n",
       "    }\n",
       "\n",
       "    .dataframe thead th {\n",
       "        text-align: right;\n",
       "    }\n",
       "</style>\n",
       "<table border=\"1\" class=\"dataframe\">\n",
       "  <thead>\n",
       "    <tr style=\"text-align: right;\">\n",
       "      <th>Prediction</th>\n",
       "      <th>MIDDLE</th>\n",
       "      <th>OLD</th>\n",
       "      <th>YOUNG</th>\n",
       "      <th>All</th>\n",
       "    </tr>\n",
       "    <tr>\n",
       "      <th>Actual</th>\n",
       "      <th></th>\n",
       "      <th></th>\n",
       "      <th></th>\n",
       "      <th></th>\n",
       "    </tr>\n",
       "  </thead>\n",
       "  <tbody>\n",
       "    <tr>\n",
       "      <th>MIDDLE</th>\n",
       "      <td>3978</td>\n",
       "      <td>1029</td>\n",
       "      <td>2776</td>\n",
       "      <td>7783</td>\n",
       "    </tr>\n",
       "    <tr>\n",
       "      <th>OLD</th>\n",
       "      <td>889</td>\n",
       "      <td>227</td>\n",
       "      <td>606</td>\n",
       "      <td>1722</td>\n",
       "    </tr>\n",
       "    <tr>\n",
       "      <th>YOUNG</th>\n",
       "      <td>2467</td>\n",
       "      <td>643</td>\n",
       "      <td>1702</td>\n",
       "      <td>4812</td>\n",
       "    </tr>\n",
       "    <tr>\n",
       "      <th>All</th>\n",
       "      <td>7334</td>\n",
       "      <td>1899</td>\n",
       "      <td>5084</td>\n",
       "      <td>14317</td>\n",
       "    </tr>\n",
       "  </tbody>\n",
       "</table>\n",
       "</div>"
      ],
      "text/plain": [
       "Prediction  MIDDLE   OLD  YOUNG    All\n",
       "Actual                                \n",
       "MIDDLE        3978  1029   2776   7783\n",
       "OLD            889   227    606   1722\n",
       "YOUNG         2467   643   1702   4812\n",
       "All           7334  1899   5084  14317"
      ]
     },
     "execution_count": 14,
     "metadata": {},
     "output_type": "execute_result"
    }
   ],
   "source": [
    "# Generate the confusion matrics for train data\n",
    "train_pred = model.predict_classes(train_x)\n",
    "train_pred = lb.inverse_transform(train_pred)\n",
    "\n",
    "pd.crosstab(\n",
    "    pd.Series(train_y0.Class, name='Actual'),\n",
    "    pd.Series(train_pred, name = 'Prediction'),\n",
    "    margins = True)"
   ]
  },
  {
   "cell_type": "code",
   "execution_count": 15,
   "metadata": {
    "scrolled": true
   },
   "outputs": [
    {
     "data": {
      "text/html": [
       "<div>\n",
       "<style scoped>\n",
       "    .dataframe tbody tr th:only-of-type {\n",
       "        vertical-align: middle;\n",
       "    }\n",
       "\n",
       "    .dataframe tbody tr th {\n",
       "        vertical-align: top;\n",
       "    }\n",
       "\n",
       "    .dataframe thead th {\n",
       "        text-align: right;\n",
       "    }\n",
       "</style>\n",
       "<table border=\"1\" class=\"dataframe\">\n",
       "  <thead>\n",
       "    <tr style=\"text-align: right;\">\n",
       "      <th>Prediction</th>\n",
       "      <th>MIDDLE</th>\n",
       "      <th>OLD</th>\n",
       "      <th>YOUNG</th>\n",
       "      <th>All</th>\n",
       "    </tr>\n",
       "    <tr>\n",
       "      <th>Actual</th>\n",
       "      <th></th>\n",
       "      <th></th>\n",
       "      <th></th>\n",
       "      <th></th>\n",
       "    </tr>\n",
       "  </thead>\n",
       "  <tbody>\n",
       "    <tr>\n",
       "      <th>MIDDLE</th>\n",
       "      <td>111</td>\n",
       "      <td>31</td>\n",
       "      <td>86</td>\n",
       "      <td>228</td>\n",
       "    </tr>\n",
       "    <tr>\n",
       "      <th>OLD</th>\n",
       "      <td>26</td>\n",
       "      <td>6</td>\n",
       "      <td>25</td>\n",
       "      <td>57</td>\n",
       "    </tr>\n",
       "    <tr>\n",
       "      <th>YOUNG</th>\n",
       "      <td>84</td>\n",
       "      <td>22</td>\n",
       "      <td>58</td>\n",
       "      <td>164</td>\n",
       "    </tr>\n",
       "    <tr>\n",
       "      <th>All</th>\n",
       "      <td>221</td>\n",
       "      <td>59</td>\n",
       "      <td>169</td>\n",
       "      <td>449</td>\n",
       "    </tr>\n",
       "  </tbody>\n",
       "</table>\n",
       "</div>"
      ],
      "text/plain": [
       "Prediction  MIDDLE  OLD  YOUNG  All\n",
       "Actual                             \n",
       "MIDDLE         111   31     86  228\n",
       "OLD             26    6     25   57\n",
       "YOUNG           84   22     58  164\n",
       "All            221   59    169  449"
      ]
     },
     "execution_count": 15,
     "metadata": {},
     "output_type": "execute_result"
    }
   ],
   "source": [
    "# Generate the confusion matrics\n",
    "valid_pred = model.predict_classes(valid_x)\n",
    "valid_pred = lb.inverse_transform(valid_pred)\n",
    "\n",
    "pd.crosstab(\n",
    "    pd.Series(valid_y0.Class, name='Actual'),\n",
    "    pd.Series(valid_pred, name = 'Prediction'),\n",
    "    margins = True)"
   ]
  },
  {
   "cell_type": "code",
   "execution_count": 16,
   "metadata": {
    "scrolled": true
   },
   "outputs": [
    {
     "name": "stdout",
     "output_type": "stream",
     "text": [
      "Confusion Matrix :\n",
      "[[1326   96  175]\n",
      " [  52  300   22]\n",
      " [ 110   14  883]]\n",
      "Accuracy Score : 0.8425117528542646\n",
      "Report : \n",
      "              precision    recall  f1-score   support\n",
      "\n",
      "      MIDDLE       0.89      0.83      0.86      1597\n",
      "         OLD       0.73      0.80      0.77       374\n",
      "       YOUNG       0.82      0.88      0.85      1007\n",
      "\n",
      "    accuracy                           0.84      2978\n",
      "   macro avg       0.81      0.84      0.82      2978\n",
      "weighted avg       0.85      0.84      0.84      2978\n",
      "\n"
     ]
    }
   ],
   "source": [
    "# Python script for confusion matrix creation. \n",
    "from sklearn.metrics import confusion_matrix \n",
    "from sklearn.metrics import accuracy_score \n",
    "from sklearn.metrics import classification_report \n",
    "  \n",
    "valid_pred = model.predict_classes(valid_x)\n",
    "valid_pred = lb.inverse_transform(valid_pred)\n",
    "\n",
    "results = confusion_matrix(valid_y0.Class, valid_pred) \n",
    " \n",
    "print('Confusion Matrix :')\n",
    "print(results) \n",
    "print('Accuracy Score :',accuracy_score(valid_y0.Class, valid_pred)) \n",
    "print('Report : ')\n",
    "print(classification_report(valid_y0.Class, valid_pred))"
   ]
  },
  {
   "cell_type": "code",
   "execution_count": null,
   "metadata": {},
   "outputs": [],
   "source": [
    "def plotImages(images_arr):\n",
    "    fig, axes = plt.subplots(1, 5, figsize=(20,20))\n",
    "    axes = axes.flatten()\n",
    "    for img, ax in zip( images_arr, axes):\n",
    "        ax.imshow(img)\n",
    "        ax.axis('off')\n",
    "    plt.tight_layout()\n",
    "    plt.show()"
   ]
  },
  {
   "cell_type": "code",
   "execution_count": null,
   "metadata": {},
   "outputs": [],
   "source": [
    "# data_aug1 = ImageDataGenerator(\n",
    "#     featurewise_center = False,\n",
    "#     samplewise_center = False,\n",
    "#     featurewise_std_normalization = False,\n",
    "#     samplewise_std_normalization = False,\n",
    "#     zca_whitening = False,\n",
    "#     rotation_range = 45,\n",
    "#     width_shift_range = 0.1,\n",
    "#     height_shift_range = 0.1,\n",
    "#     horizontal_flip = True,\n",
    "#     vertical_flip = False\n",
    "# )\n",
    "\n",
    "# data_aug1.fit(valid_x)"
   ]
  },
  {
   "cell_type": "code",
   "execution_count": null,
   "metadata": {},
   "outputs": [],
   "source": [
    "# num_predictions = 36\n",
    "\n",
    "# predict_gen = model.predict_generator(data_aug1.flow(valid_x, valid_y,\n",
    "#     batch_size=64, shuffle=False),\n",
    "#     steps=(valid_x.shape[0] // 64)+1, workers=4)\n",
    "\n",
    "# indices = [np.random.choice(range(len(valid_x))) \n",
    "#            for i in range(num_predictions)]\n",
    "\n",
    "# cifar_grid(valid_x,valid_y,indices,6,valid_y0,predictions=predict_gen)\n"
   ]
  },
  {
   "cell_type": "code",
   "execution_count": 17,
   "metadata": {},
   "outputs": [],
   "source": [
    "# Save the trained model\n",
    "model.save(\"ACbyHFI_model9_beta2.h5\")\n",
    "\n",
    "# Predict with the test data set and save to csv\n",
    "pred = model.predict_classes(test_x)\n",
    "pred = lb.inverse_transform(pred)\n",
    "\n",
    "test['Class'] = pred\n",
    "test.to_csv('Testing_Model9-2.csv', index=False)"
   ]
  },
  {
   "cell_type": "code",
   "execution_count": null,
   "metadata": {},
   "outputs": [],
   "source": []
  },
  {
   "cell_type": "code",
   "execution_count": null,
   "metadata": {},
   "outputs": [],
   "source": []
  },
  {
   "cell_type": "code",
   "execution_count": null,
   "metadata": {},
   "outputs": [],
   "source": []
  }
 ],
 "metadata": {
  "kernelspec": {
   "display_name": "Python 3",
   "language": "python",
   "name": "python3"
  },
  "language_info": {
   "codemirror_mode": {
    "name": "ipython",
    "version": 3
   },
   "file_extension": ".py",
   "mimetype": "text/x-python",
   "name": "python",
   "nbconvert_exporter": "python",
   "pygments_lexer": "ipython3",
   "version": "3.7.6"
  }
 },
 "nbformat": 4,
 "nbformat_minor": 4
}

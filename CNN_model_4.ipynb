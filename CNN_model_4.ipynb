{
 "cells": [
  {
   "cell_type": "markdown",
   "metadata": {},
   "source": [
    "# Buiding CNN model using keras "
   ]
  },
  {
   "cell_type": "code",
   "execution_count": 1,
   "metadata": {},
   "outputs": [
    {
     "name": "stderr",
     "output_type": "stream",
     "text": [
      "Using TensorFlow backend.\n"
     ]
    }
   ],
   "source": [
    "import tensorflow\n",
    "import keras\n",
    "from keras.models import Sequential\n",
    "from keras.layers import Dense, Flatten, InputLayer, Dropout, Conv2D, Activation, MaxPooling2D\n",
    "\n",
    "import os\n",
    "import pandas as pd # some array operation\n",
    "# from scipy.misc import imread\n",
    "from skimage import io\n",
    "import matplotlib.pyplot as plt\n",
    "from sklearn.preprocessing import LabelEncoder\n",
    "from sklearn.model_selection import train_test_split\n",
    "import pickle # Load saved data\n",
    "import numpy as np # Manipulating with array\n"
   ]
  },
  {
   "cell_type": "code",
   "execution_count": 2,
   "metadata": {},
   "outputs": [
    {
     "data": {
      "text/plain": [
       "MIDDLE    10769\n",
       "YOUNG      6698\n",
       "OLD        2383\n",
       "Name: Class, dtype: int64"
      ]
     },
     "execution_count": 2,
     "metadata": {},
     "output_type": "execute_result"
    }
   ],
   "source": [
    "# Define data dir path\n",
    "Train_data_dir = \"/Users/york/Tensor1/JupyterNotebook/Ages Classification by Human face image p1/data\"\n",
    "Test_data_dir = \"/Users/york/Tensor1/JupyterNotebook/Ages Classification by Human face image p1/data\"\n",
    "\n",
    "\n",
    "# Import csv files\n",
    "train = pd.read_csv(os.path.join(Train_data_dir, \"train_c.csv\"))\n",
    "test = pd.read_csv(os.path.join(Test_data_dir, \"test.csv\"))\n",
    "\n",
    "train.head()\n",
    "\n",
    "train.Class.value_counts()\n",
    "\n",
    "# np.unique(train.Class)"
   ]
  },
  {
   "cell_type": "markdown",
   "metadata": {},
   "source": [
    "## Import train and test data"
   ]
  },
  {
   "cell_type": "code",
   "execution_count": 3,
   "metadata": {},
   "outputs": [
    {
     "name": "stdout",
     "output_type": "stream",
     "text": [
      "(16872, 128, 128, 3)\n",
      "(16872, 3)\n",
      "Train class saperate rate: \n"
     ]
    },
    {
     "data": {
      "text/plain": [
       "MIDDLE    0.542519\n",
       "YOUNG     0.337431\n",
       "OLD       0.120050\n",
       "Name: Class, dtype: float64"
      ]
     },
     "execution_count": 3,
     "metadata": {},
     "output_type": "execute_result"
    }
   ],
   "source": [
    "# Import saved data\n",
    "pickle_in = open(os.path.join(Train_data_dir, \"X_train_128x3_c.pickle\"),\"rb\")\n",
    "train_x = pickle.load(pickle_in)\n",
    "\n",
    "# Import saved data\n",
    "pickle_in = open(os.path.join(Train_data_dir, \"X_test_128x3_c.pickle\"),\"rb\")\n",
    "test_x = pickle.load(pickle_in)\n",
    "\n",
    "\n",
    "# Split off the validation data\n",
    "train_x, valid_x, train_y, valid_y0 = train_test_split(train_x, train, test_size=0.15, random_state=42)\n",
    "\n",
    "# Change lable to number\n",
    "lb = LabelEncoder()\n",
    "train_y = lb.fit_transform(train_y.Class)\n",
    "train_y = keras.utils.np_utils.to_categorical(train_y)\n",
    "\n",
    "valid_y = lb.fit_transform(valid_y0.Class)\n",
    "valid_y = keras.utils.np_utils.to_categorical(valid_y)\n",
    "\n",
    "\n",
    "# lb = LabelEncoder()\n",
    "# test_y = lb.fit_transform(test.Class)\n",
    "# test_y = keras.utils.np_utils.to_categorical(test_y)\n",
    "\n",
    "print(train_x.shape)\n",
    "print(train_y.shape)\n",
    "\n",
    "\n",
    "print(\"Train class saperate rate: \")\n",
    "train.Class.value_counts(normalize=True)"
   ]
  },
  {
   "cell_type": "code",
   "execution_count": 4,
   "metadata": {},
   "outputs": [
    {
     "name": "stdout",
     "output_type": "stream",
     "text": [
      "[0. 0. 1.]\n",
      "[0. 1. 0.]\n",
      "[1. 0. 0.]\n",
      "[1. 0. 0.]\n",
      "[0. 1. 0.]\n",
      "[1. 0. 0.]\n"
     ]
    }
   ],
   "source": [
    "for x in range(6):\n",
    "    print(train_y[x])"
   ]
  },
  {
   "cell_type": "markdown",
   "metadata": {},
   "source": [
    "## Data augmentation using sklearn lib"
   ]
  },
  {
   "cell_type": "code",
   "execution_count": 5,
   "metadata": {},
   "outputs": [],
   "source": [
    "from keras.preprocessing.image import ImageDataGenerator\n",
    "\n",
    "data_aug = ImageDataGenerator(\n",
    "    featurewise_center = False,\n",
    "    samplewise_center = False,\n",
    "    featurewise_std_normalization = False,\n",
    "    samplewise_std_normalization = False,\n",
    "    zca_whitening = False,\n",
    "    rotation_range = 45,\n",
    "    width_shift_range = 0.1,\n",
    "    height_shift_range = 0.1,\n",
    "    horizontal_flip = True,\n",
    "    vertical_flip = False\n",
    ")\n",
    "\n",
    "data_aug.fit(train_x)"
   ]
  },
  {
   "cell_type": "markdown",
   "metadata": {},
   "source": [
    "### Define parameter using in model"
   ]
  },
  {
   "cell_type": "code",
   "execution_count": 6,
   "metadata": {},
   "outputs": [],
   "source": [
    "# Define parameter\n",
    "img_size = 128\n",
    "chanel_num = 3\n",
    "class_num = 3\n",
    "\n",
    "epoch_num = 30\n",
    "batch_size = 64\n",
    "\n",
    "# Define weights \n",
    "from sklearn.utils import compute_class_weight\n",
    "# weights = np.zeros(len(train_y))\n",
    "\n",
    "\n",
    "weights = {\n",
    "    0:0.19,\n",
    "    1:0.55,\n",
    "    2:0.26\n",
    "}"
   ]
  },
  {
   "cell_type": "markdown",
   "metadata": {},
   "source": [
    "### Building a cnn model"
   ]
  },
  {
   "cell_type": "markdown",
   "metadata": {},
   "source": [
    "Using Sequential model with 3 convolutional layers, kernel size is 3x3, stride = 1. Adding 3 dense layers with 0.5 dropout and last layer using 'Softmax' activation function"
   ]
  },
  {
   "cell_type": "code",
   "execution_count": 7,
   "metadata": {
    "scrolled": false
   },
   "outputs": [
    {
     "name": "stdout",
     "output_type": "stream",
     "text": [
      "WARNING:tensorflow:From /Users/york/opt/anaconda3/lib/python3.7/site-packages/keras/backend/tensorflow_backend.py:4070: The name tf.nn.max_pool is deprecated. Please use tf.nn.max_pool2d instead.\n",
      "\n",
      "Model: \"sequential_1\"\n",
      "_________________________________________________________________\n",
      "Layer (type)                 Output Shape              Param #   \n",
      "=================================================================\n",
      "conv2d_1 (Conv2D)            (None, 126, 126, 32)      896       \n",
      "_________________________________________________________________\n",
      "activation_1 (Activation)    (None, 126, 126, 32)      0         \n",
      "_________________________________________________________________\n",
      "max_pooling2d_1 (MaxPooling2 (None, 63, 63, 32)        0         \n",
      "_________________________________________________________________\n",
      "conv2d_2 (Conv2D)            (None, 61, 61, 64)        18496     \n",
      "_________________________________________________________________\n",
      "activation_2 (Activation)    (None, 61, 61, 64)        0         \n",
      "_________________________________________________________________\n",
      "max_pooling2d_2 (MaxPooling2 (None, 30, 30, 64)        0         \n",
      "_________________________________________________________________\n",
      "conv2d_3 (Conv2D)            (None, 27, 27, 64)        65600     \n",
      "_________________________________________________________________\n",
      "activation_3 (Activation)    (None, 27, 27, 64)        0         \n",
      "_________________________________________________________________\n",
      "max_pooling2d_3 (MaxPooling2 (None, 13, 13, 64)        0         \n",
      "_________________________________________________________________\n",
      "flatten_1 (Flatten)          (None, 10816)             0         \n",
      "_________________________________________________________________\n",
      "dense_1 (Dense)              (None, 64)                692288    \n",
      "_________________________________________________________________\n",
      "activation_4 (Activation)    (None, 64)                0         \n",
      "_________________________________________________________________\n",
      "dropout_1 (Dropout)          (None, 64)                0         \n",
      "_________________________________________________________________\n",
      "dense_2 (Dense)              (None, 32)                2080      \n",
      "_________________________________________________________________\n",
      "activation_5 (Activation)    (None, 32)                0         \n",
      "_________________________________________________________________\n",
      "dropout_2 (Dropout)          (None, 32)                0         \n",
      "_________________________________________________________________\n",
      "dense_3 (Dense)              (None, 3)                 99        \n",
      "_________________________________________________________________\n",
      "activation_6 (Activation)    (None, 3)                 0         \n",
      "=================================================================\n",
      "Total params: 779,459\n",
      "Trainable params: 779,459\n",
      "Non-trainable params: 0\n",
      "_________________________________________________________________\n"
     ]
    }
   ],
   "source": [
    "# Define model\n",
    "model = Sequential()\n",
    "\n",
    "# Add 1th layer, convolution 32 neurons with relu activation func\n",
    "model.add(Conv2D(25,kernel_size=3, strides=1, input_shape=(img_size,img_size,chanel_num)))\n",
    "model.add(Activation('relu'))\n",
    "model.add(MaxPooling2D(pool_size=(2,2)))\n",
    "# Add 2nd convolution layer\n",
    "model.add(Conv2D(50,kernel_size=3, strides=1))\n",
    "model.add(Activation('relu'))\n",
    "model.add(MaxPooling2D(pool_size=(2,2)))\n",
    "# Add 3nd convolution layer\n",
    "model.add(Conv2D(75,kernel_size=4, strides=1))\n",
    "model.add(Activation('relu'))\n",
    "model.add(MaxPooling2D(pool_size=(2,2)))\n",
    "\n",
    "# Add flatten layer\n",
    "model.add(Flatten())\n",
    "# Add normal dense layer with 32 neurons\n",
    "model.add(Dense(32))\n",
    "model.add(Activation('relu'))\n",
    "model.add(Dense(32))\n",
    "model.add(Activation('relu'))\n",
    "model.add(Dropout(0.5))\n",
    "# Final dense layer are 3 neurons means 3 classes that we have (young, middle, old)\n",
    "model.add(Dense(3))\n",
    "# Add final layer activation fuc using softmax\n",
    "model.add(Activation('softmax'))\n",
    "\n",
    "model.summary()"
   ]
  },
  {
   "cell_type": "markdown",
   "metadata": {},
   "source": [
    "#### Define learning rate schadule"
   ]
  },
  {
   "cell_type": "code",
   "execution_count": 8,
   "metadata": {},
   "outputs": [],
   "source": [
    "def scheduler(epoch, lr):\n",
    "    if epoch < 10:\n",
    "        return lr\n",
    "    else:\n",
    "        return lr * 0.5\n",
    "\n",
    "# model.compile(tf.keras.optimizers.SGD(), loss='mse')\n",
    "# round(model.optimizer.lr.numpy(), 5)\n",
    "\n",
    "# history = model.fit(np.arange(100).reshape(5, 20), np.zeros(5),\n",
    "#                     epochs=15, callbacks=[callback], verbose=0)"
   ]
  },
  {
   "cell_type": "markdown",
   "metadata": {},
   "source": [
    "### Compiling and run the training model"
   ]
  },
  {
   "cell_type": "markdown",
   "metadata": {},
   "source": [
    "Using Categorical crossentropy loss function, Adam optimizer"
   ]
  },
  {
   "cell_type": "code",
   "execution_count": 9,
   "metadata": {
    "scrolled": false
   },
   "outputs": [
    {
     "name": "stdout",
     "output_type": "stream",
     "text": [
      "WARNING:tensorflow:From /Users/york/opt/anaconda3/lib/python3.7/site-packages/keras/backend/tensorflow_backend.py:422: The name tf.global_variables is deprecated. Please use tf.compat.v1.global_variables instead.\n",
      "\n",
      "Epoch 1/26\n",
      "1055/1054 [==============================] - 579s 549ms/step - loss: 0.2588 - accuracy: 0.5295 - val_loss: 0.8450 - val_accuracy: 0.6014\n",
      "Epoch 2/26\n",
      "1055/1054 [==============================] - 465s 440ms/step - loss: 0.2308 - accuracy: 0.5922 - val_loss: 0.7680 - val_accuracy: 0.6420\n",
      "Epoch 3/26\n",
      "1055/1054 [==============================] - 466s 442ms/step - loss: 0.2163 - accuracy: 0.6286 - val_loss: 0.6847 - val_accuracy: 0.6985\n",
      "Epoch 4/26\n",
      "1055/1054 [==============================] - 495s 469ms/step - loss: 0.2077 - accuracy: 0.6501 - val_loss: 0.7016 - val_accuracy: 0.6837\n",
      "Epoch 5/26\n",
      "1055/1054 [==============================] - 33916s 32s/step - loss: 0.1994 - accuracy: 0.6691 - val_loss: 0.6526 - val_accuracy: 0.7189\n",
      "Epoch 6/26\n",
      "1055/1054 [==============================] - 5284s 5s/step - loss: 0.1947 - accuracy: 0.6777 - val_loss: 0.6417 - val_accuracy: 0.7220\n",
      "Epoch 7/26\n",
      "1055/1054 [==============================] - 1957s 2s/step - loss: 0.1896 - accuracy: 0.6912 - val_loss: 0.6376 - val_accuracy: 0.7189\n",
      "Epoch 8/26\n",
      "1055/1054 [==============================] - 460s 436ms/step - loss: 0.1836 - accuracy: 0.6989 - val_loss: 0.6206 - val_accuracy: 0.7273\n",
      "Epoch 9/26\n",
      "1055/1054 [==============================] - 486s 460ms/step - loss: 0.1804 - accuracy: 0.7069 - val_loss: 0.5932 - val_accuracy: 0.7404\n",
      "Epoch 10/26\n",
      "1055/1054 [==============================] - 461s 436ms/step - loss: 0.1782 - accuracy: 0.7102 - val_loss: 0.5963 - val_accuracy: 0.7448\n",
      "Epoch 11/26\n",
      "1055/1054 [==============================] - 451s 427ms/step - loss: 0.1743 - accuracy: 0.7162 - val_loss: 0.5702 - val_accuracy: 0.7492\n",
      "Epoch 12/26\n",
      "1055/1054 [==============================] - 449s 426ms/step - loss: 0.1707 - accuracy: 0.7246 - val_loss: 0.5797 - val_accuracy: 0.7391\n",
      "Epoch 13/26\n",
      "1055/1054 [==============================] - 452s 428ms/step - loss: 0.1673 - accuracy: 0.7297 - val_loss: 0.5488 - val_accuracy: 0.7639\n",
      "Epoch 14/26\n",
      "1055/1054 [==============================] - 450s 426ms/step - loss: 0.1650 - accuracy: 0.7333 - val_loss: 0.5615 - val_accuracy: 0.7619\n",
      "Epoch 15/26\n",
      "1055/1054 [==============================] - 449s 425ms/step - loss: 0.1617 - accuracy: 0.7384 - val_loss: 0.5416 - val_accuracy: 0.7653\n",
      "Epoch 16/26\n",
      "1055/1054 [==============================] - 450s 426ms/step - loss: 0.1601 - accuracy: 0.7419 - val_loss: 0.5497 - val_accuracy: 0.7673\n",
      "Epoch 17/26\n",
      "1055/1054 [==============================] - 449s 425ms/step - loss: 0.1588 - accuracy: 0.7456 - val_loss: 0.5416 - val_accuracy: 0.7696\n",
      "Epoch 18/26\n",
      "1055/1054 [==============================] - 450s 426ms/step - loss: 0.1560 - accuracy: 0.7508 - val_loss: 0.5287 - val_accuracy: 0.7737\n",
      "Epoch 19/26\n",
      "1055/1054 [==============================] - 454s 431ms/step - loss: 0.1542 - accuracy: 0.7529 - val_loss: 0.5129 - val_accuracy: 0.7895\n",
      "Epoch 20/26\n",
      "1055/1054 [==============================] - 449s 425ms/step - loss: 0.1526 - accuracy: 0.7554 - val_loss: 0.5154 - val_accuracy: 0.7824\n",
      "Epoch 21/26\n",
      "1055/1054 [==============================] - 449s 426ms/step - loss: 0.1503 - accuracy: 0.7586 - val_loss: 0.5293 - val_accuracy: 0.7814\n",
      "Epoch 22/26\n",
      "1055/1054 [==============================] - 449s 426ms/step - loss: 0.1495 - accuracy: 0.7591 - val_loss: 0.5385 - val_accuracy: 0.7670\n",
      "Epoch 23/26\n",
      "1055/1054 [==============================] - 466s 442ms/step - loss: 0.1473 - accuracy: 0.7634 - val_loss: 0.5024 - val_accuracy: 0.7905\n",
      "Epoch 24/26\n",
      "1055/1054 [==============================] - 508s 481ms/step - loss: 0.1454 - accuracy: 0.7683 - val_loss: 0.5048 - val_accuracy: 0.7931\n",
      "Epoch 25/26\n",
      "1055/1054 [==============================] - 487s 461ms/step - loss: 0.1445 - accuracy: 0.7700 - val_loss: 0.5138 - val_accuracy: 0.7767\n",
      "Epoch 26/26\n",
      "1055/1054 [==============================] - 478s 453ms/step - loss: 0.1424 - accuracy: 0.7718 - val_loss: 0.4916 - val_accuracy: 0.7891\n"
     ]
    }
   ],
   "source": [
    "# Configure the learning process\n",
    "from keras.optimizers import SGD, Adadelta, Adam\n",
    "opt = SGD(lr=0.0001, decay=1e-6, momentum=0.9, nesterov=True)\n",
    "opt1 = Adam(lr=0.0002)\n",
    "# opt2 = Adadelta(lr=0.001, rho=0.95)\n",
    "model.compile(loss='categorical_crossentropy',\n",
    "             optimizer= opt1,\n",
    "             metrics=['accuracy'])\n",
    "\n",
    "# Define callback function (lr scheduler)\n",
    "# callback = keras.callbacks.LearningRateScheduler(scheduler)\n",
    "\n",
    "# Train the model\n",
    "history = model.fit_generator(data_aug.flow(train_x, train_y, batch_size=64),\n",
    "                    steps_per_epoch = len(train_x) / 16,\n",
    "                    epochs = 20,\n",
    "                    validation_data=(valid_x,valid_y),\n",
    "#                     callbacks=[callback],\n",
    "                    verbose = 1,\n",
    "                    class_weight = weights)"
   ]
  },
  {
   "cell_type": "code",
   "execution_count": 10,
   "metadata": {},
   "outputs": [
    {
     "name": "stdout",
     "output_type": "stream",
     "text": [
      "Accuracy: 78.91%\n"
     ]
    }
   ],
   "source": [
    "Score = model.evaluate(valid_x, valid_y, verbose=0)\n",
    "print(\"Accuracy: %.2f%%\" % (Score[1]*100))"
   ]
  },
  {
   "cell_type": "markdown",
   "metadata": {},
   "source": [
    "## Show model training plot result"
   ]
  },
  {
   "cell_type": "code",
   "execution_count": 11,
   "metadata": {},
   "outputs": [
    {
     "data": {
      "image/png": "[encoded data removed]",
      "text/plain": [
       "<Figure size 432x288 with 1 Axes>"
      ]
     },
     "metadata": {
      "needs_background": "light"
     },
     "output_type": "display_data"
    },
    {
     "data": {
      "image/png": "[encoded data removed]",
      "text/plain": [
       "<Figure size 432x288 with 1 Axes>"
      ]
     },
     "metadata": {
      "needs_background": "light"
     },
     "output_type": "display_data"
    }
   ],
   "source": [
    "# Plot training & validation accuracy values\n",
    "plt.plot(history.history['accuracy'])\n",
    "plt.plot(history.history['val_accuracy'])\n",
    "plt.title('Model accuracy')\n",
    "plt.ylabel('Accuracy')\n",
    "plt.xlabel('Epoch')\n",
    "plt.legend(['Train', 'Test'], loc='upper left')\n",
    "plt.show()\n",
    "\n",
    "# Plot training & validation loss values\n",
    "plt.plot(history.history['loss'])\n",
    "plt.plot(history.history['val_loss'])\n",
    "plt.title('Model loss')\n",
    "plt.ylabel('Loss')\n",
    "plt.xlabel('Epoch')\n",
    "plt.legend(['Train', 'Test'], loc='upper left')\n",
    "plt.show()"
   ]
  },
  {
   "cell_type": "markdown",
   "metadata": {},
   "source": [
    "### Generate confusion metrics"
   ]
  },
  {
   "cell_type": "code",
   "execution_count": 12,
   "metadata": {},
   "outputs": [
    {
     "name": "stdout",
     "output_type": "stream",
     "text": [
      "Confusion matrix :\n",
      "[[1182  145  241]\n",
      " [  60  287   17]\n",
      " [ 134   31  881]]\n",
      "Accuracy:  0.7891202149093351\n",
      "Report: \n",
      "              precision    recall  f1-score   support\n",
      "\n",
      "      MIDDLE       0.86      0.75      0.80      1568\n",
      "         OLD       0.62      0.79      0.69       364\n",
      "       YOUNG       0.77      0.84      0.81      1046\n",
      "\n",
      "    accuracy                           0.79      2978\n",
      "   macro avg       0.75      0.79      0.77      2978\n",
      "weighted avg       0.80      0.79      0.79      2978\n",
      "\n"
     ]
    }
   ],
   "source": [
    "from sklearn.metrics import confusion_matrix\n",
    "from sklearn.metrics import accuracy_score\n",
    "from sklearn.metrics import classification_report\n",
    "\n",
    "# Generate the confusion matrics\n",
    "valid_pred = model.predict_classes(valid_x)\n",
    "valid_pred = lb.inverse_transform(valid_pred)\n",
    "\n",
    "result = confusion_matrix(valid_y0.Class,valid_pred)\n",
    "\n",
    "print(\"Confusion matrix :\")\n",
    "print(result)\n",
    "print(\"Accuracy: \", accuracy_score(valid_y0.Class,valid_pred))\n",
    "print(\"Report: \")\n",
    "print(classification_report(valid_y0.Class,valid_pred))\n",
    "\n"
   ]
  },
  {
   "cell_type": "markdown",
   "metadata": {},
   "source": [
    "##### Export and save the prediction model and pred result "
   ]
  },
  {
   "cell_type": "code",
   "execution_count": 13,
   "metadata": {},
   "outputs": [],
   "source": [
    "# Save the trained model\n",
    "model.save(\"ACbyHFI_model10.h5\")\n",
    "\n",
    "# Predict with the test data set and save to csv\n",
    "pred = model.predict_classes(test_x)\n",
    "pred = lb.inverse_transform(pred)\n",
    "\n",
    "test['Class'] = pred\n",
    "test.to_csv('Testing_Model10.csv', index=False)"
   ]
  },
  {
   "cell_type": "code",
   "execution_count": null,
   "metadata": {},
   "outputs": [],
   "source": []
  }
 ],
 "metadata": {
  "kernelspec": {
   "display_name": "Python 3",
   "language": "python",
   "name": "python3"
  },
  "language_info": {
   "codemirror_mode": {
    "name": "ipython",
    "version": 3
   },
   "file_extension": ".py",
   "mimetype": "text/x-python",
   "name": "python",
   "nbconvert_exporter": "python",
   "pygments_lexer": "ipython3",
   "version": "3.7.6"
  }
 },
 "nbformat": 4,
 "nbformat_minor": 4
}

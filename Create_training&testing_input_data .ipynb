{
 "cells": [
  {
   "cell_type": "markdown",
   "metadata": {},
   "source": [
    "# Create trainning and testing input data for CNN model"
   ]
  },
  {
   "cell_type": "code",
   "execution_count": 1,
   "metadata": {},
   "outputs": [],
   "source": [
    "import os # manages some directory\n",
    "import random\n",
    "\n",
    "import pandas as pd # some array operation\n",
    "from scipy.misc import imread\n",
    "from skimage import io\n",
    "%matplotlib inline\n",
    "import matplotlib.pyplot as plt\n",
    "\n",
    "import cv2 # image operation\n",
    "import numpy as np"
   ]
  },
  {
   "cell_type": "code",
   "execution_count": 2,
   "metadata": {},
   "outputs": [],
   "source": [
    "# i = random.choice(train.index)\n",
    "\n",
    "# img_name = train.ID[i]\n",
    "# img = io.imread(os.path.join(Train_data_dir, \"Train\", img_name))\n",
    "\n",
    "# print(\"Index: \", i)\n",
    "# print(\"Age: \", train.Class[i-2])\n",
    "# print(\"ImageID: \", train.ID[i-2])\n",
    "# plt.imshow(img)"
   ]
  },
  {
   "cell_type": "code",
   "execution_count": 3,
   "metadata": {},
   "outputs": [],
   "source": [
    "# root_dir = os.path.abspath('.')\n",
    "Train_data_dir = \"S:/Study and Learning/Master/Academic Thesis/Data/Face picture/train_DETg9GD\"\n",
    "Test_data_dir = \"S:/Study and Learning/Master/Academic Thesis/Data/Face picture/test_Bh8pGW3\"\n",
    "\n",
    "train = pd.read_csv(os.path.join(Train_data_dir, \"train.csv\"))\n",
    "test = pd.read_csv(os.path.join(Test_data_dir, \"test.csv\"))"
   ]
  },
  {
   "cell_type": "code",
   "execution_count": 4,
   "metadata": {},
   "outputs": [
    {
     "name": "stdout",
     "output_type": "stream",
     "text": [
      "19906\n",
      "6636\n"
     ]
    }
   ],
   "source": [
    "# Define train and test image dir path\n",
    "Train_data_img = os.path.join(Train_data_dir, \"Train\")\n",
    "Test_data_img = os.path.join(Test_data_dir, \"Test\")\n",
    "\n",
    "#Define image size using in training the model\n",
    "IMG_SIZE = 150\n",
    "train_data = []\n",
    "test_data = []\n",
    "\n",
    "train_x = []\n",
    "test_x = []\n",
    "\n",
    "# Create the training data\n",
    "temp = []\n",
    "for img_name in train.ID:\n",
    "    img_path = os.path.join(Train_data_img, img_name) # define image dir path and name\n",
    "    img = cv2.imread(img_path, cv2.IMREAD_GRAYSCALE) # read in the image and grayscale\n",
    "    img1 = cv2.resize(img, (IMG_SIZE, IMG_SIZE)) # resize image to 100 x 100 px\n",
    "    img1 = img1.astype('float32') # this will help us in later stage\n",
    "    temp.append(img1)\n",
    "    \n",
    "train_x = np.stack(temp)\n",
    "train_x = np.array(train_x).reshape(-1, IMG_SIZE,IMG_SIZE, 1) # Reshape the image to input into CNN\n",
    "train_x1 = train_x / 255. # Normalize image\n",
    "\n",
    "# Create the test data\n",
    "temp = []\n",
    "for img_name in test.ID:\n",
    "    img_path = os.path.join(Test_data_img, img_name) # define image dir path and name\n",
    "    img = cv2.imread(img_path, cv2.IMREAD_GRAYSCALE) # read in the image and grayscale\n",
    "    img1 = cv2.resize(img, (IMG_SIZE, IMG_SIZE)) # resize image to 100 x 100 px\n",
    "    img1 = img1.astype('float32') # this will help us in later stage\n",
    "    temp.append(img1)\n",
    "    \n",
    "test_x = np.stack(temp)\n",
    "test_x = np.array(test_x).reshape(-1, IMG_SIZE,IMG_SIZE, 1) # Reshape the image to input into CNN\n",
    "test_x1 = test_x / 255. # Normalize image\n",
    "\n",
    "print(len(train_x))\n",
    "print(len(test_x))"
   ]
  },
  {
   "cell_type": "code",
   "execution_count": 5,
   "metadata": {},
   "outputs": [],
   "source": [
    "# plt.imshow(train_data[19900], cmap='gray')\n",
    "# plt.show()\n",
    "# print(\"Shape:\", train_data[0].shape)\n",
    "# print(train_data[1])\n",
    "\n",
    "\n",
    "# plt.imshow(train_x[19905], cmap='gray')\n",
    "# plt.show()\n",
    "# print(train_x[1])\n",
    "\n",
    "# train_x1 = np.array(train_x).reshape(IMG_SIZE,IMG_SIZE,-1)\n",
    "# plt.imshow(train_x1[19905], cmap='gray')\n",
    "# plt.show()\n",
    "# print(train_x1[1])\n",
    "\n",
    "# print(\"Number of sample: \")\n",
    "# print(train_x1.shape[0], \"train samples\")\n",
    "# print(test_x1.shape[0], \"test sample\")\n",
    "\n",
    "# print(\"Class saperate rate: \")\n",
    "# train.Class.value_counts(normalize=True)"
   ]
  },
  {
   "cell_type": "code",
   "execution_count": 6,
   "metadata": {},
   "outputs": [],
   "source": [
    "# #create the training data\n",
    "# def create_train_data():\n",
    "#     for img in os.listdir(Train_data_img):\n",
    "#         try:\n",
    "#             img_array = cv2.imread(os.path.join(Train_data_img,img), cv2.IMREAD_GRAYSCALE)\n",
    "#             new_array = cv2.resize(img_array, (IMG_SIZE,IMG_SIZE))#resize image to 80px x 80px\n",
    "#             train_data.append(new_array)\n",
    "#         except Exception as e:\n",
    "#             pass\n",
    "    \n",
    "    \n",
    "# # create the testing data \n",
    "# def create_test_data():\n",
    "#     for img in os.listdir(Test_data_img):\n",
    "#         try:\n",
    "#             img_array = cv2.imread(os.path.join(Test_data_img,img), cv2.IMREAD_GRAYSCALE)\n",
    "#             new_array = cv2.resize(img_array, (IMG_SIZE,IMG_SIZE))#resize image to 80px x 80px\n",
    "#             test_data.append(new_array)\n",
    "#         except Exception as e:\n",
    "#             pass        \n",
    "        \n",
    "# # Run the create train and test data func\n",
    "# create_train_data()\n",
    "# train_x = np.stack(train_data)\n",
    "# train_x = np.array(train_x).reshape(-1, IMG_SIZE,IMG_SIZE, 1)\n",
    "# train_x = train_x.astype('float32')\n",
    "# train_x = train_x / 255. # normalize data\n",
    "\n",
    "# create_test_data()\n",
    "# test_x = np.stack(test_data)\n",
    "# test_x = np.array(test_x).reshape(-1, IMG_SIZE,IMG_SIZE, 1)\n",
    "# test_x = test_x.astype('float32')\n",
    "# test_x = test_x / 255. # normalize data\n",
    "\n",
    "# print(len(train_x))\n",
    "# print(len(test_x))"
   ]
  },
  {
   "cell_type": "code",
   "execution_count": 7,
   "metadata": {},
   "outputs": [],
   "source": [
    "# train_x = train_x / 255.\n",
    "# test_x = test_x / 255.\n",
    "\n",
    "# plt.imshow(train_x[0])\n",
    "# plt.show()\n",
    "# print(\"Shape:\", train_x[0].shape)\n",
    "\n",
    "# plt.imshow(test_x[1])\n",
    "# plt.show()\n",
    "# print(\"Shape:\", test_x[1].shape)"
   ]
  },
  {
   "cell_type": "markdown",
   "metadata": {},
   "source": [
    "### Save the data"
   ]
  },
  {
   "cell_type": "code",
   "execution_count": 8,
   "metadata": {},
   "outputs": [],
   "source": [
    "import pickle\n",
    "\n",
    "pickle_out = open(\"train_x.pickle\",\"wb\") # Save X_train data file\n",
    "pickle.dump(train_x1, pickle_out)\n",
    "pickle_out.close()\n",
    "\n",
    "pickle_out = open(\"test_x.pickle\",\"wb\") # Save y_train data file\n",
    "pickle.dump(test_x1, pickle_out)\n",
    "pickle_out.close()"
   ]
  },
  {
   "cell_type": "markdown",
   "metadata": {},
   "source": [
    "### Manage csv file"
   ]
  },
  {
   "cell_type": "code",
   "execution_count": 9,
   "metadata": {},
   "outputs": [],
   "source": [
    "# import csv\n",
    "# import operator\n",
    "\n",
    "# Train_data_dir = \"S:/Study and Learning/Master/Academic Thesis/Data/Face picture/train_DETg9GD\"\n",
    "# Test_data_dir = \"S:/Study and Learning/Master/Academic Thesis/Data/Face picture/test_Bh8pGW3\"\n",
    "\n",
    "# # Import csv files\n",
    "# train = pd.read_csv(os.path.join(Train_data_dir, \"train.csv\"))\n",
    "# test = pd.read_csv(os.path.join(Test_data_dir, \"test.csv\"))\n",
    "\n",
    "# # Remove the first row\n",
    "# with open(\"data/train.csv\",'r') as f:\n",
    "#     with open(\"train_x1.csv\",'w') as f1:\n",
    "#         next(f) # skip header line\n",
    "#         for line in f:\n",
    "#             f1.write(line)\n",
    "\n",
    "# # # Write to new csv file name 'train_x?.csv'\n",
    "# # with open(\"train_x4.csv\",'w',newline=\"\") as f1:\n",
    "# #     for line in sort:\n",
    "# #         f1.write(' '.join(map(str, line)))\n",
    "            \n",
    "# # sort by image name\n",
    "# with open('train_x1.csv', 'r', newline='') as f_input:\n",
    "#     csv_input = csv.DictReader(f_input)\n",
    "#     data = sorted(csv_input, key=lambda collumn:0)\n",
    "\n",
    "# with open('train_x5.csv', 'w', newline='') as f_output:\n",
    "#     for line in sort:\n",
    "#          f_output.write(' '.join(map(str, line)))\n"
   ]
  },
  {
   "cell_type": "code",
   "execution_count": null,
   "metadata": {},
   "outputs": [],
   "source": []
  },
  {
   "cell_type": "code",
   "execution_count": null,
   "metadata": {},
   "outputs": [],
   "source": []
  }
 ],
 "metadata": {
  "kernelspec": {
   "display_name": "Python 3",
   "language": "python",
   "name": "python3"
  },
  "language_info": {
   "codemirror_mode": {
    "name": "ipython",
    "version": 3
   },
   "file_extension": ".py",
   "mimetype": "text/x-python",
   "name": "python",
   "nbconvert_exporter": "python",
   "pygments_lexer": "ipython3",
   "version": "3.7.6"
  }
 },
 "nbformat": 4,
 "nbformat_minor": 4
}
